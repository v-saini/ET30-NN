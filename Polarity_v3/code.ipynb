{
  "cells": [
    {
      "cell_type": "code",
      "execution_count": null,
      "metadata": {
        "id": "SAwVl7Dc2u48"
      },
      "outputs": [],
      "source": [
        "# Importing Libraries\n",
        "import pandas as pd\n",
        "import numpy as np\n",
        "import seaborn as sns\n",
        "import matplotlib.pyplot as plt\n",
        "from matplotlib.offsetbox import AnchoredText\n",
        "import matplotlib.colors as colors\n",
        "from mpl_toolkits import mplot3d\n",
        "from math import sqrt\n",
        "import warnings\n",
        "\n",
        "from sklearn.metrics import mean_squared_error,r2_score,mean_absolute_error\n",
        "from sklearn.model_selection import train_test_split,KFold,cross_val_score,GridSearchCV\n",
        "from sklearn.preprocessing import StandardScaler, OneHotEncoder,LabelEncoder, MinMaxScaler\n",
        "\n",
        "\n",
        "import tensorflow as tf\n",
        "import keras\n",
        "from keras import layers\n",
        "from keras.models import Sequential\n",
        "from keras.layers import Dense, LeakyReLU\n",
        "from keras.models import load_model\n",
        "from keras.wrappers.scikit_learn import KerasClassifier\n",
        "\n",
        "import matplotlib.pyplot as plt\n",
        "plt.rcParams[\"figure.figsize\"] = (10,10)\n",
        "plt.rcParams['savefig.dpi'] = 600\n",
        "plt.rcParams[\"savefig.format\"] = 'tiff'\n",
        "warnings.filterwarnings(\"ignore\")"
      ]
    },
    {
      "cell_type": "code",
      "execution_count": null,
      "metadata": {
        "id": "axkjJPmA20AE"
      },
      "outputs": [],
      "source": [
        "sns.set(style='whitegrid')\n",
        "sns.set_context(\"paper\", font_scale=2)\n"
      ]
    },
    {
      "cell_type": "code",
      "execution_count": null,
      "metadata": {
        "id": "ujXS1gGh3791"
      },
      "outputs": [],
      "source": [
        "# Learning Rate Scheduler\n",
        "def scheduler(epoch, lr):\n",
        "  if epoch < 160:\n",
        "    return lr\n",
        "  else:\n",
        "    return lr * np.exp(-0.1)\n",
        "\n",
        "callback = keras.callbacks.LearningRateScheduler(scheduler)\n",
        "\n",
        "\n",
        "\n",
        "# Neural Network\n",
        "def Neural_network():\n",
        "    init = keras.initializers.random_normal()\n",
        "    model=Sequential()\n",
        "    model.add(layers.Dense(64,activation='relu',kernel_initializer=init, input_dim=scaled_DF.shape[1]))\n",
        "    model.add(layers.Dropout(0.1))\n",
        "    \n",
        "\n",
        "    model.add(layers.Dense(128,activation='relu',kernel_initializer=init))\n",
        "    model.add(layers.Dropout(0.1))\n",
        "\n",
        "    \n",
        "    model.add(layers.Dense(128,activation='relu',kernel_initializer=init))\n",
        "    model.add(layers.Dropout(0.1))\n",
        "\n",
        "    \n",
        "    model.add(layers.Dense(1,kernel_initializer=init,activation = 'linear'))\n",
        " \n",
        "    \n",
        "    optimize=tf.keras.optimizers.Adam(lr = 0.001)\n",
        "    \n",
        "    model.compile(optimizer=optimize,\n",
        "                    loss='mse',\n",
        "                    )\n",
        "    return model\n",
        "# layers.LeakyReLU(alpha = 0.05)\n"
      ]
    },
    {
      "cell_type": "code",
      "execution_count": null,
      "metadata": {
        "id": "_j7T0KwQ372z"
      },
      "outputs": [],
      "source": [
        "# Funtion to train the model\n",
        "def training_model(X_train,Y_train,model):\n",
        "    history=model.fit(X_train,Y_train,epochs=200,batch_size=64,verbose=0,callbacks=[callback])\n",
        "    return history"
      ]
    },
    {
      "cell_type": "code",
      "execution_count": null,
      "metadata": {
        "id": "R4khWM6037vD"
      },
      "outputs": [],
      "source": [
        "# To print losses\n",
        "def plots():\n",
        "    f, ax = plt.subplots(1,1)\n",
        "    actual_test=np.array(scaler.inverse_transform(testY).reshape(-1,1))\n",
        "    predicted_test=np.array(scaler.inverse_transform(model.predict(testX).reshape(-1,1)))\n",
        "\n",
        "    #actual=testY\n",
        "    #predicted= model.predict(testX)\n",
        "\n",
        "    actual=np.array(scaler.inverse_transform(np.array(trainY).reshape(-1,1)))\n",
        "    predicted=np.array(scaler.inverse_transform(model.predict(np.array(trainX)).reshape(-1,1)))\n",
        "\n",
        "    plt.rcParams[\"figure.figsize\"] = (10,10)\n",
        "    plt.rcParams['savefig.dpi'] = 400\n",
        "    plt.rcParams[\"savefig.format\"] = 'tiff'\n",
        "\n",
        "    sns.set(style='whitegrid')\n",
        "    sns.set_context(\"paper\", font_scale=2)\n",
        "\n",
        "    plt.scatter(actual_test,predicted_test, color='seagreen', label='Test', linewidths=1, edgecolors='yellowgreen', s=75)\n",
        "    sns.regplot(actual,predicted, color='crimson', label='Train', scatter_kws={'s':40, 'alpha':0.5, 'edgecolor':'black'})\n",
        "\n",
        "    print(\"Mean absolute error (MAE):      %f\" % mean_absolute_error(actual_test,predicted_test))\n",
        "    print(\"Mean squared error (MSE):       %f\" % mean_squared_error(actual_test,predicted_test))\n",
        "    print(\"Root mean squared error (RMSE): %f\" % sqrt(mean_squared_error(actual_test,predicted_test)))\n",
        "    print(\"R square (R^2):                 %f\" % r2_score(actual_test,predicted_test))\n",
        "    \n",
        "    \n",
        "    plt.xlabel('Actual')\n",
        "    plt.ylabel('Predicted')\n",
        "    #plt.suptitle(\"Actual Vs Predicted\")\n",
        "    anchored_text = AnchoredText(\"R\\u00b2 Score_train  \"+str(round(r2_score(actual,predicted),3))+'\\n'\"R\\u00b2 Score_test  \"+str(round(r2_score(actual_test,predicted_test),3)), loc=2,prop=dict(size=15))\n",
        "    ax.add_artist(anchored_text)\n",
        "    \n",
        "    plt.legend(loc = 9, prop={'size': 15})\n",
        "    #plt.savefig(str(model)[1:6], bbox_inches='tight')"
      ]
    },
    {
      "cell_type": "code",
      "execution_count": null,
      "metadata": {
        "id": "SO0inMLyhmzx"
      },
      "outputs": [],
      "source": [
        "train_1 = pd.read_excel('train.xlsx')\n",
        "test_1 = pd.read_excel('test.xlsx')"
      ]
    },
    {
      "cell_type": "code",
      "execution_count": null,
      "metadata": {
        "id": "T-PlJHDEg6HW"
      },
      "outputs": [],
      "source": [
        "# Combine Train and test for feature engineering\n",
        "DF_raw = pd.concat([train_1,test_1],ignore_index=True)\n",
        "DF_data = DF_raw.copy()"
      ]
    },
    {
      "cell_type": "code",
      "execution_count": null,
      "metadata": {
        "id": "UkBgNNY66Vn3"
      },
      "outputs": [],
      "source": [
        "DF_data.head()"
      ]
    },
    {
      "cell_type": "code",
      "execution_count": null,
      "metadata": {
        "id": "kY6AtZV6b512"
      },
      "outputs": [],
      "source": [
        "DF_data.drop(['Name of the Molecule','Smiles', 'Solvent type'], axis=1, inplace=True)"
      ]
    },
    {
      "cell_type": "code",
      "execution_count": null,
      "metadata": {
        "id": "b71TS-7jIsHE"
      },
      "outputs": [],
      "source": [
        "\n",
        "# Scaling the whole DataFrame\n",
        "\n",
        "\n",
        "\n",
        "scaler = StandardScaler()\n",
        "scaled_DF = pd.DataFrame(scaler.fit_transform(DF_data.iloc[:,1:8]))\n",
        "scaled_DF.columns = DF_data.iloc[:,1:8].columns\n",
        "\n",
        "scaled_DF['Et(30)'] = scaler.fit_transform(np.array(DF_data['Et(30)']).reshape(-1,1))\n",
        "scaled_DF\n",
        "\n",
        "display(scaled_DF)"
      ]
    },
    {
      "cell_type": "code",
      "execution_count": null,
      "metadata": {
        "id": "P2xwRozk_rwt"
      },
      "outputs": [],
      "source": [
        "scaled_DF = pd.concat([scaled_DF, DF_data.iloc[:,8:]], axis=1)"
      ]
    },
    {
      "cell_type": "code",
      "source": [
        "scaled_DF.head()"
      ],
      "metadata": {
        "id": "YSHpN5kyUcgZ"
      },
      "execution_count": null,
      "outputs": []
    },
    {
      "cell_type": "code",
      "execution_count": null,
      "metadata": {
        "id": "LTN0ycy4MTeB"
      },
      "outputs": [],
      "source": [
        "DF_target = scaled_DF[['Et(30)']]\n",
        "scaled_DF.drop('Et(30)',axis=1,inplace=True)\n",
        "\n",
        "display(scaled_DF)\n",
        "display(DF_target)"
      ]
    },
    {
      "cell_type": "code",
      "execution_count": null,
      "metadata": {
        "id": "2Wt0tdLX666B"
      },
      "outputs": [],
      "source": [
        "trainX = scaled_DF[:len(train_1)] \n",
        "testX = scaled_DF[len(train_1):]\n",
        "\n",
        "trainY = DF_target[:len(train_1)]\n",
        "testY = DF_target[len(train_1):]"
      ]
    },
    {
      "cell_type": "code",
      "execution_count": null,
      "metadata": {
        "id": "91JIth64a-Ai"
      },
      "outputs": [],
      "source": [
        "trainX.shape"
      ]
    },
    {
      "cell_type": "code",
      "execution_count": null,
      "metadata": {
        "id": "3zAshpwmuQDO"
      },
      "outputs": [],
      "source": [
        "model = Neural_network()\n",
        "\n",
        "kfold = KFold(n_splits=5, shuffle=True, random_state=None)\n",
        "\n",
        "best_score = 0.1\n",
        "\n",
        "scores = []\n",
        "rmse = []\n",
        "for train,valid in kfold.split(trainX,trainY):\n",
        "  training_model(trainX.iloc[train],trainY.iloc[train],model)\n",
        "  scores.append(r2_score(trainY.iloc[valid],model.predict(trainX.iloc[valid])))\n",
        "  \n",
        "  actual = trainY.iloc[valid]\n",
        "  predicted = model.predict(trainX.iloc[valid])\n",
        "  rmse.append(sqrt(mean_squared_error(scaler.inverse_transform(actual),scaler.inverse_transform(predicted))))\n",
        "    \n",
        "print(\"Average validation R2 score after crossvalidation : \", np.mean(scores))\n",
        "print(\"Average validation rmse score after crossvalidation : \", np.mean(rmse))\n",
        "\n",
        "#Train model on whole train data\n",
        "\n",
        "model = Neural_network()\n",
        "training_model(trainX,trainY,model)\n",
        "\n",
        "\n",
        "actual=np.array(scaler.inverse_transform(np.array(trainY)))\n",
        "predicted=np.array(scaler.inverse_transform(model.predict(np.array(trainX)).reshape(-1,1)))\n",
        "model.save(\"nn.h5\")\n",
        "score = r2_score(actual,predicted)\n",
        "print(\"\\n\\nTraining Accuracy : \",score) # Training Accuracy\n",
        "plots()\n"
      ]
    },
    {
      "cell_type": "code",
      "execution_count": null,
      "metadata": {
        "id": "iMinfaM9WJ1o"
      },
      "outputs": [],
      "source": [
        "model = load_model('/content/nn_0.97.h5')"
      ]
    },
    {
      "cell_type": "code",
      "execution_count": null,
      "metadata": {
        "id": "z3dTh0Mln5CZ"
      },
      "outputs": [],
      "source": [
        "plots()"
      ]
    },
    {
      "cell_type": "code",
      "source": [
        "model.summary()"
      ],
      "metadata": {
        "id": "-mP4iUzC_24K"
      },
      "execution_count": null,
      "outputs": []
    },
    {
      "cell_type": "code",
      "source": [
        "from keras.utils.vis_utils import plot_model\n",
        "plot_model(model, show_shapes=True, show_layer_names=True)"
      ],
      "metadata": {
        "id": "qKJJuDi7A11C"
      },
      "execution_count": null,
      "outputs": []
    },
    {
      "cell_type": "code",
      "execution_count": null,
      "metadata": {
        "id": "Uykty9mwoix2"
      },
      "outputs": [],
      "source": [
        "actual_test=np.array(scaler.inverse_transform(testY).reshape(-1,1))\n",
        "predicted_test=np.array(scaler.inverse_transform(model.predict(testX).reshape(-1,1)))\n",
        "\n",
        "predictions_DF = test_1[['Name of the Molecule','Solvent type', 'Smiles']]\n",
        "predictions_DF['Actual'] = np.squeeze(actual_test)\n",
        "predictions_DF['Predicted'] = np.squeeze(predicted_test)\n",
        "\n",
        "predictions_DF.to_excel('predictions_test_nn.xlsx',index = False)"
      ]
    },
    {
      "cell_type": "code",
      "execution_count": null,
      "metadata": {
        "id": "jaYGFn9YfYbv"
      },
      "outputs": [],
      "source": [
        "actual=np.array(scaler.inverse_transform(np.array(trainY).reshape(-1,1)))\n",
        "predicted=np.array(scaler.inverse_transform(model.predict(np.array(trainX)).reshape(-1,1)))\n",
        "\n",
        "predictions_DF = train_1[['Name of the Molecule','Solvent type', 'Smiles']]\n",
        "predictions_DF['Actual'] = np.squeeze(actual)\n",
        "predictions_DF['Predicted'] = np.squeeze(predicted)\n",
        "\n",
        "predictions_DF.to_excel('predictions_train_nn.xlsx',index = False)"
      ]
    }
  ],
  "metadata": {
    "colab": {
      "provenance": []
    },
    "gpuClass": "standard",
    "kernelspec": {
      "display_name": "Python 3",
      "name": "python3"
    },
    "language_info": {
      "name": "python"
    }
  },
  "nbformat": 4,
  "nbformat_minor": 0
}